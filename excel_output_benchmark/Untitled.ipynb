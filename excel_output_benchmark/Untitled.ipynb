{
 "cells": [
  {
   "cell_type": "markdown",
   "id": "24078309-25d6-4b61-84ad-d8ce9165839a",
   "metadata": {},
   "source": [
    "# Compare the "
   ]
  },
  {
   "cell_type": "code",
   "execution_count": 2,
   "id": "40c76bf09296a6ad",
   "metadata": {
    "ExecuteTime": {
     "end_time": "2024-03-22T03:19:49.108866Z",
     "start_time": "2024-03-22T03:19:47.631902Z"
    },
    "collapsed": false,
    "jupyter": {
     "outputs_hidden": false
    }
   },
   "outputs": [
    {
     "name": "stdout",
     "output_type": "stream",
     "text": [
      "Requirement already satisfied: XlsxWriter==3.2.0 in /Users/james/.pyenv/versions/pylab/lib/python3.11/site-packages (3.2.0)\r\n",
      "Requirement already satisfied: tablib==3.5.0 in /Users/james/.pyenv/versions/pylab/lib/python3.11/site-packages (3.5.0)\r\n",
      "\r\n",
      "\u001b[1m[\u001b[0m\u001b[34;49mnotice\u001b[0m\u001b[1;39;49m]\u001b[0m\u001b[39;49m A new release of pip is available: \u001b[0m\u001b[31;49m23.2.1\u001b[0m\u001b[39;49m -> \u001b[0m\u001b[32;49m24.0\u001b[0m\r\n",
      "\u001b[1m[\u001b[0m\u001b[34;49mnotice\u001b[0m\u001b[1;39;49m]\u001b[0m\u001b[39;49m To update, run: \u001b[0m\u001b[32;49mpython3.11 -m pip install --upgrade pip\u001b[0m\r\n"
     ]
    }
   ],
   "source": [
    "!pip install XlsxWriter==3.2.0 tablib==3.5.0"
   ]
  },
  {
   "cell_type": "code",
   "execution_count": 1,
   "id": "8669cb86-f408-41b4-ad72-e61d45d67204",
   "metadata": {
    "ExecuteTime": {
     "end_time": "2024-03-22T03:19:50.610858Z",
     "start_time": "2024-03-22T03:19:49.110221Z"
    }
   },
   "outputs": [
    {
     "name": "stdout",
     "output_type": "stream",
     "text": [
      "XlsxWriter time: 0.32696991704870015 seconds\n",
      "XlsxWriter Memory usage: 10027008 KB\n",
      "tablib time: 1.0646776250214316 seconds\n",
      "tablib Memory usage: 125517824 KB\n"
     ]
    }
   ],
   "source": [
    "import time\n",
    "import xlsxwriter\n",
    "import tablib\n",
    "import resource\n",
    "\n",
    "\n",
    "def memory_usage_psutil():\n",
    "    return resource.getrusage(resource.RUSAGE_SELF).ru_maxrss\n",
    "\n",
    "\n",
    "# XlsxWriter\n",
    "start_mem = memory_usage_psutil()\n",
    "sample_data = [[\"Sample data\"] * 20 for _ in range(5000)]\n",
    "start_time = time.perf_counter()\n",
    "workbook = xlsxwriter.Workbook('xlsxwriter_example.xlsx')\n",
    "worksheet = workbook.add_worksheet()\n",
    "for i in range(5000):\n",
    "    for j in range(20):\n",
    "        worksheet.write(i, j, sample_data[i][j])\n",
    "workbook.close()\n",
    "end_mem = memory_usage_psutil()\n",
    "print(f\"XlsxWriter time: {(time.perf_counter() - start_time)} seconds\")\n",
    "print(f\"XlsxWriter Memory usage: {end_mem - start_mem} KB\")\n",
    "\n",
    "# tablib\n",
    "end_mem = memory_usage_psutil()\n",
    "sample_data = [[\"Sample data\"] * 20 for _ in range(5000)]\n",
    "start_time = time.perf_counter()\n",
    "data = tablib.Dataset()\n",
    "for i in range(5000):\n",
    "    data.append(sample_data[i])\n",
    "with open('tablib_example.xlsx', 'wb') as f:\n",
    "    f.write(data.export('xlsx'))\n",
    "end_mem = memory_usage_psutil()\n",
    "print(f\"tablib time: {(time.perf_counter() - start_time)} seconds\")\n",
    "print(f\"tablib Memory usage: {end_mem - start_mem} KB\")\n"
   ]
  },
  {
   "cell_type": "code",
   "execution_count": null,
   "id": "fab311e1-d900-4e59-91e4-09ce9593a1cb",
   "metadata": {},
   "outputs": [],
   "source": []
  }
 ],
 "metadata": {
  "kernelspec": {
   "display_name": "Python 3 (ipykernel)",
   "language": "python",
   "name": "python3"
  },
  "language_info": {
   "codemirror_mode": {
    "name": "ipython",
    "version": 3
   },
   "file_extension": ".py",
   "mimetype": "text/x-python",
   "name": "python",
   "nbconvert_exporter": "python",
   "pygments_lexer": "ipython3",
   "version": "3.11.4"
  }
 },
 "nbformat": 4,
 "nbformat_minor": 5
}
